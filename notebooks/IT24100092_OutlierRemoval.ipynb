{
 "cells": [
  {
   "cell_type": "code",
   "id": "initial_id",
   "metadata": {
    "collapsed": true,
    "ExecuteTime": {
     "end_time": "2025-09-23T15:30:03.781666Z",
     "start_time": "2025-09-23T15:30:01.410653Z"
    }
   },
   "source": [
    "from pathlib import Path\n",
    "import pandas as pd\n",
    "import matplotlib.pyplot as plt\n",
    "\n",
    "RAW   = Path(\"../data/raw/liver_cirrhosis.csv\")\n",
    "PLOTS = Path(\"../results/eda_visualizations\"); PLOTS.mkdir(parents=True, exist_ok=True)\n",
    "OUT   = Path(\"../results/outputs\");           OUT.mkdir(parents=True, exist_ok=True)\n",
    "\n",
    "assert RAW.exists() and RAW.stat().st_size > 0, f\"Dataset missing/empty at {RAW.resolve()}\"\n",
    "\n",
    "df = pd.read_csv(RAW)\n",
    "\n",
    "numeric = [c for c in [\n",
    "    'Age','Bilirubin','Cholesterol','Albumin','Copper','Alk_Phos',\n",
    "    'SGOT','Tryglicerides','Platelets','Prothrombin'\n",
    "] if c in df.columns]"
   ],
   "outputs": [],
   "execution_count": 1
  },
  {
   "metadata": {
    "ExecuteTime": {
     "end_time": "2025-09-23T15:30:07.036063Z",
     "start_time": "2025-09-23T15:30:06.695728Z"
    }
   },
   "cell_type": "code",
   "source": [
    "plt.figure(); plt.boxplot(df['Bilirubin'].dropna(), vert=True)\n",
    "plt.title(\"Bilirubin (before outlier handling)\")\n",
    "plt.tight_layout(); plt.savefig(PLOTS / \"02_bilirubin_box_before.png\"); plt.close()\n"
   ],
   "id": "eb05e79e3a6b0a2d",
   "outputs": [],
   "execution_count": 2
  },
  {
   "metadata": {
    "ExecuteTime": {
     "end_time": "2025-09-23T15:30:08.673291Z",
     "start_time": "2025-09-23T15:30:08.618611Z"
    }
   },
   "cell_type": "code",
   "source": [
    
    "def iqr_mask(s, k=1.5):\n",
    "    q1, q3 = s.quantile(0.25), s.quantile(0.75)\n",
    "    iqr = q3 - q1\n",
    "    return (s >= q1 - k*iqr) & (s <= q3 + k*iqr)\n",
    "\n",
    "mask = pd.Series(True, index=df.index)\n",
    "for c in numeric:\n",
    "    mask &= iqr_mask(df[c])\n",
    "\n",
    "removed = int((~mask).sum())\n",
    "df_clean = df[mask].reset_index(drop=True)\n",
    "print(\"Rows removed:\", removed)\n"
   ],
   "id": "af493d0abb633a4d",
   "outputs": [
    {
     "name": "stdout",
     "output_type": "stream",
     "text": [
      "Rows removed: 9639\n"
     ]
    }
   ],
   "execution_count": 3
  },
  {
   "metadata": {
    "ExecuteTime": {
     "end_time": "2025-09-23T15:30:11.559275Z",
     "start_time": "2025-09-23T15:30:11.400269Z"
    }
   },
   "cell_type": "code",
   "source": [
    
    "plt.figure(); plt.boxplot(df_clean['Bilirubin'].dropna(), vert=True)\n",
    "plt.title(\"Bilirubin (after outlier handling)\")\n",
    "plt.tight_layout(); plt.savefig(PLOTS / \"02_bilirubin_box_after.png\"); plt.close()\n"
   ],
   "id": "38738898b4598828",
   "outputs": [],
   "execution_count": 4
  },
  {
   "metadata": {
    "ExecuteTime": {
     "end_time": "2025-09-23T15:30:13.366776Z",
     "start_time": "2025-09-23T15:30:13.178830Z"
    }
   },
   "cell_type": "code",
   "source": [
    "# Save\n",
    "(df_clean).to_csv(OUT / \"outlier_cleaned.csv\", index=False)\n",
    "df_clean.head()"
   ],
   "id": "a2d28a30f9864d21",
   "outputs": [
    {
     "data": {
      "text/plain": [
       "   N_Days Status     Drug    Age Sex Ascites Hepatomegaly Spiders Edema  \\\n",
       "0    1230      C  Placebo  19724   M       Y            N       Y     N   \n",
       "1    4184      C  Placebo  11839   F       N            N       N     N   \n",
       "2    2090      D  Placebo  16467   F       N            N       N     N   \n",
       "3    2105      D  Placebo  21699   F       N            Y       N     N   \n",
       "4    2504      C  Placebo  15265   F       N            N       N     N   \n",
       "\n",
       "   Bilirubin  Cholesterol  Albumin  Copper  Alk_Phos    SGOT  Tryglicerides  \\\n",
       "0        0.5   219.000000     3.93    22.0     663.0   45.00      75.000000   \n",
       "1        0.5   320.000000     3.54    51.0    1243.0  122.45      80.000000   \n",
       "2        0.7   255.000000     3.74    23.0    1024.0   77.50      58.000000   \n",
       "3        1.9   486.000000     3.54    74.0    1052.0  108.50     109.000000   \n",
       "4        2.3   369.510563     3.93    24.0    1828.0  133.30     124.702128   \n",
       "\n",
       "   Platelets  Prothrombin  Stage  \n",
       "0      220.0         10.8      2  \n",
       "1      225.0         10.0      2  \n",
       "2      151.0         10.2      2  \n",
       "3      151.0         11.5      1  \n",
       "4      474.0         10.9      1  "
      ],
      "text/html": [
       "<div>\n",
       "<style scoped>\n",
       "    .dataframe tbody tr th:only-of-type {\n",
       "        vertical-align: middle;\n",
       "    }\n",
       "\n",
       "    .dataframe tbody tr th {\n",
       "        vertical-align: top;\n",
       "    }\n",
       "\n",
       "    .dataframe thead th {\n",
       "        text-align: right;\n",
       "    }\n",
       "</style>\n",
       "<table border=\"1\" class=\"dataframe\">\n",
       "  <thead>\n",
       "    <tr style=\"text-align: right;\">\n",
       "      <th></th>\n",
       "      <th>N_Days</th>\n",
       "      <th>Status</th>\n",
       "      <th>Drug</th>\n",
       "      <th>Age</th>\n",
       "      <th>Sex</th>\n",
       "      <th>Ascites</th>\n",
       "      <th>Hepatomegaly</th>\n",
       "      <th>Spiders</th>\n",
       "      <th>Edema</th>\n",
       "      <th>Bilirubin</th>\n",
       "      <th>Cholesterol</th>\n",
       "      <th>Albumin</th>\n",
       "      <th>Copper</th>\n",
       "      <th>Alk_Phos</th>\n",
       "      <th>SGOT</th>\n",
       "      <th>Tryglicerides</th>\n",
       "      <th>Platelets</th>\n",
       "      <th>Prothrombin</th>\n",
       "      <th>Stage</th>\n",
       "    </tr>\n",
       "  </thead>\n",
       "  <tbody>\n",
       "    <tr>\n",
       "      <th>0</th>\n",
       "      <td>1230</td>\n",
       "      <td>C</td>\n",
       "      <td>Placebo</td>\n",
       "      <td>19724</td>\n",
       "      <td>M</td>\n",
       "      <td>Y</td>\n",
       "      <td>N</td>\n",
       "      <td>Y</td>\n",
       "      <td>N</td>\n",
       "      <td>0.5</td>\n",
       "      <td>219.000000</td>\n",
       "      <td>3.93</td>\n",
       "      <td>22.0</td>\n",
       "      <td>663.0</td>\n",
       "      <td>45.00</td>\n",
       "      <td>75.000000</td>\n",
       "      <td>220.0</td>\n",
       "      <td>10.8</td>\n",
       "      <td>2</td>\n",
       "    </tr>\n",
       "    <tr>\n",
       "      <th>1</th>\n",
       "      <td>4184</td>\n",
       "      <td>C</td>\n",
       "      <td>Placebo</td>\n",
       "      <td>11839</td>\n",
       "      <td>F</td>\n",
       "      <td>N</td>\n",
       "      <td>N</td>\n",
       "      <td>N</td>\n",
       "      <td>N</td>\n",
       "      <td>0.5</td>\n",
       "      <td>320.000000</td>\n",
       "      <td>3.54</td>\n",
       "      <td>51.0</td>\n",
       "      <td>1243.0</td>\n",
       "      <td>122.45</td>\n",
       "      <td>80.000000</td>\n",
       "      <td>225.0</td>\n",
       "      <td>10.0</td>\n",
       "      <td>2</td>\n",
       "    </tr>\n",
       "    <tr>\n",
       "      <th>2</th>\n",
       "      <td>2090</td>\n",
       "      <td>D</td>\n",
       "      <td>Placebo</td>\n",
       "      <td>16467</td>\n",
       "      <td>F</td>\n",
       "      <td>N</td>\n",
       "      <td>N</td>\n",
       "      <td>N</td>\n",
       "      <td>N</td>\n",
       "      <td>0.7</td>\n",
       "      <td>255.000000</td>\n",
       "      <td>3.74</td>\n",
       "      <td>23.0</td>\n",
       "      <td>1024.0</td>\n",
       "      <td>77.50</td>\n",
       "      <td>58.000000</td>\n",
       "      <td>151.0</td>\n",
       "      <td>10.2</td>\n",
       "      <td>2</td>\n",
       "    </tr>\n",
       "    <tr>\n",
       "      <th>3</th>\n",
       "      <td>2105</td>\n",
       "      <td>D</td>\n",
       "      <td>Placebo</td>\n",
       "      <td>21699</td>\n",
       "      <td>F</td>\n",
       "      <td>N</td>\n",
       "      <td>Y</td>\n",
       "      <td>N</td>\n",
       "      <td>N</td>\n",
       "      <td>1.9</td>\n",
       "      <td>486.000000</td>\n",
       "      <td>3.54</td>\n",
       "      <td>74.0</td>\n",
       "      <td>1052.0</td>\n",
       "      <td>108.50</td>\n",
       "      <td>109.000000</td>\n",
       "      <td>151.0</td>\n",
       "      <td>11.5</td>\n",
       "      <td>1</td>\n",
       "    </tr>\n",
       "    <tr>\n",
       "      <th>4</th>\n",
       "      <td>2504</td>\n",
       "      <td>C</td>\n",
       "      <td>Placebo</td>\n",
       "      <td>15265</td>\n",
       "      <td>F</td>\n",
       "      <td>N</td>\n",
       "      <td>N</td>\n",
       "      <td>N</td>\n",
       "      <td>N</td>\n",
       "      <td>2.3</td>\n",
       "      <td>369.510563</td>\n",
       "      <td>3.93</td>\n",
       "      <td>24.0</td>\n",
       "      <td>1828.0</td>\n",
       "      <td>133.30</td>\n",
       "      <td>124.702128</td>\n",
       "      <td>474.0</td>\n",
       "      <td>10.9</td>\n",
       "      <td>1</td>\n",
       "    </tr>\n",
       "  </tbody>\n",
       "</table>\n",
       "</div>"
      ]
     },
     "execution_count": 5,
     "metadata": {},
     "output_type": "execute_result"
    }
   ],
   "execution_count": 5
  }
 ],
 "metadata": {
  "kernelspec": {
   "display_name": "Python 3",
   "language": "python",
   "name": "python3"
  },
  "language_info": {
   "codemirror_mode": {
    "name": "ipython",
    "version": 2
   },
   "file_extension": ".py",
   "mimetype": "text/x-python",
   "name": "python",
   "nbconvert_exporter": "python",
   "pygments_lexer": "ipython2",
   "version": "2.7.6"
  }
 },
 "nbformat": 4,
 "nbformat_minor": 5
}
