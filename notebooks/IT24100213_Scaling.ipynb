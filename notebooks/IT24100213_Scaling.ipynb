{
 "cells": [
  {
   "cell_type": "code",
   "id": "initial_id",
   "metadata": {
    "collapsed": true,
    "ExecuteTime": {
     "end_time": "2025-09-23T17:10:47.333503Z",
     "start_time": "2025-09-23T17:10:47.299222Z"
    }
   },
   "source": [
    "# ===============================\n",
    "# Member 4 – Normalization / Scaling (6)\n",
    "# ===============================\n",
    "from pathlib import Path\n",
    "import pandas as pd\n",
    "import matplotlib.pyplot as plt\n",
    "from sklearn.preprocessing import StandardScaler\n",
    "\n",
    "RAW   = Path(\"../results/outputs/smote_balanced.csv\")\n",
    "PLOTS = Path(\"../results/eda_visualizations\"); PLOTS.mkdir(parents=True, exist_ok=True)\n",
    "OUT   = Path(\"../results/outputs\");           OUT.mkdir(parents=True, exist_ok=True)\n",
    "\n",
    "assert RAW.exists() and RAW.stat().st_size > 0, f\"Dataset missing/empty at {RAW.resolve()}\"\n",
    "\n",
    "df = pd.read_csv(RAW)\n",
    "\n",
    "target = 'Status'\n",
    "scale_cols = df.select_dtypes(include=['float','int']).columns.drop(target, errors='ignore')"
   ],
   "outputs": [],
   "execution_count": 3
  },
  {
   "metadata": {
    "ExecuteTime": {
     "end_time": "2025-09-23T17:10:49.600225Z",
     "start_time": "2025-09-23T17:10:49.431786Z"
    }
   },
   "cell_type": "code",
   "source": [
    "# EDA: Cholesterol before scaling (if present)\n",
    "if 'Cholesterol' in df.columns:\n",
    "    plt.figure(); df['Cholesterol'].dropna().hist(bins=40)\n",
    "    plt.title(\"Cholesterol – BEFORE scaling\")\n",
    "    plt.tight_layout(); plt.savefig(PLOTS / \"04_cholesterol_before_scaling.png\"); plt.close()\n",
    "\n",
    "if len(scale_cols) > 0:\n",
    "    scaler = StandardScaler()\n",
    "    df[scale_cols] = scaler.fit_transform(df[scale_cols])"
   ],
   "id": "cfb3069f196d122",
   "outputs": [],
   "execution_count": 4
  },
  {
   "metadata": {
    "ExecuteTime": {
     "end_time": "2025-09-23T17:10:52.130961Z",
     "start_time": "2025-09-23T17:10:51.754050Z"
    }
   },
   "cell_type": "code",
   "source": [
    "# Cholesterol after scaling\n",
    "if 'Cholesterol' in df.columns:\n",
    "    plt.figure(); df['Cholesterol'].dropna().hist(bins=40)\n",
    "    plt.title(\"Cholesterol – AFTER scaling\")\n",
    "    plt.tight_layout(); plt.savefig(PLOTS / \"04_cholesterol_after_scaling.png\"); plt.close()\n",
    "\n",
    "df.to_csv(OUT / \"scaled.csv\", index=False)\n",
    "print(\"✅ Saved scaled dataset ->\", (OUT / \"scaled.csv\").resolve(), \"| shape:\", df.shape)\n"
   ],
   "id": "bd4eecb03f7afef1",
   "outputs": [
    {
     "name": "stdout",
     "output_type": "stream",
     "text": [
      "✅ Saved scaled dataset -> F:\\BioLivera\\results\\outputs\\scaled.csv | shape: (15000, 19)\n"
     ]
    }
   ],
   "execution_count": 5
  }
 ],
 "metadata": {
  "kernelspec": {
   "display_name": "Python 3",
   "language": "python",
   "name": "python3"
  },
  "language_info": {
   "codemirror_mode": {
    "name": "ipython",
    "version": 2
   },
   "file_extension": ".py",
   "mimetype": "text/x-python",
   "name": "python",
   "nbconvert_exporter": "python",
   "pygments_lexer": "ipython2",
   "version": "2.7.6"
  }
 },
 "nbformat": 4,
 "nbformat_minor": 5
}
