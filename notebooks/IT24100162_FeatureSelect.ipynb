{
 "cells": [
  {
   "cell_type": "code",
   "id": "initial_id",
   "metadata": {
    "collapsed": true,
    "ExecuteTime": {
     "end_time": "2025-09-23T16:05:14.977295Z",
     "start_time": "2025-09-23T16:05:12.588460Z"
    }
   },
   "source": [
   
  
   
    "from pathlib import Path\n",
    "import pandas as pd\n",
    "import matplotlib.pyplot as plt\n",
    "import numpy as np\n",
    "from sklearn.decomposition import PCA\n",
    "from sklearn.feature_selection import VarianceThreshold\n",
    "\n",
    "RAW   = Path(\"../results/outputs/feature_engineered.csv\")\n",
    "PLOTS = Path(\"../results/eda_visualizations\"); PLOTS.mkdir(parents=True, exist_ok=True)\n",
    "OUT   = Path(\"../results/outputs\"); OUT.mkdir(parents=True, exist_ok=True)\n",
    "\n",
    "assert RAW.exists() and RAW.stat().st_size > 0, f\"Dataset missing/empty at {RAW.resolve()}\"\n",
    "\n",
    "df = pd.read_csv(RAW)\n"
   ],
   "outputs": [],
   "execution_count": 1
  },
  {
   "metadata": {
    "ExecuteTime": {
     "end_time": "2025-09-23T16:06:38.704559Z",
     "start_time": "2025-09-23T16:06:38.689805Z"
    }
   },
   "cell_type": "code",
   "source": [
 
    "df_num = df.copy()\n",
    "for c in df_num.select_dtypes(include=\"object\").columns:\n",
    "    df_num[c] = df_num[c].astype(\"category\").cat.codes\n",
    "\n",
    "target = \"Status\" if \"Status\" in df_num.columns else None\n",
    "X = df_num.drop(columns=[target]) if target else df_num\n",
    "y = df_num[target] if target else None\n"
   ],
   "id": "a8df15c658acdeb5",
   "outputs": [],
   "execution_count": 2
  },
  {
   "metadata": {
    "ExecuteTime": {
     "end_time": "2025-09-23T16:06:41.427288Z",
     "start_time": "2025-09-23T16:06:41.121007Z"
    }
   },
   "cell_type": "code",
   "source": [

    "corr = X.corr(numeric_only=True)\n",
    "plt.figure(figsize=(8, 6))\n",
    "plt.imshow(corr.values, aspect=\"auto\", cmap=\"coolwarm\")\n",
    "plt.title(\"Correlation Heatmap (numeric)\")\n",
    "plt.colorbar()\n",
    "plt.tight_layout()\n",
    "plt.savefig(PLOTS / \"05_correlation_heatmap.png\")\n",
    "plt.close()"
   ],
   "id": "8b484b9117243279",
   "outputs": [],
   "execution_count": 3
  },
  {
   "metadata": {
    "ExecuteTime": {
     "end_time": "2025-09-23T16:06:43.469619Z",
     "start_time": "2025-09-23T16:06:43.448750Z"
    }
   },
   "cell_type": "code",
   "source": [
  
    "vt = VarianceThreshold(threshold=1e-8)\n",
    "X_vt = vt.fit_transform(X)\n",
    "X_vt_df = pd.DataFrame(X_vt, columns=X.columns[vt.get_support()], index=X.index)\n"
   ],
   "id": "50dfc5d068920139",
   "outputs": [],
   "execution_count": 4
  },
  {
   "metadata": {
    "ExecuteTime": {
     "end_time": "2025-09-23T16:06:45.586783Z",
     "start_time": "2025-09-23T16:06:45.563770Z"
    }
   },
   "cell_type": "code",
   "source": [
 
    "corr_vt = X_vt_df.corr(numeric_only=True).abs()\n",
    "upper = corr_vt.where(np.triu(np.ones(corr_vt.shape), k=1).astype(bool))\n",
    "to_drop = [c for c in upper.columns if any(upper[c] >= 0.90)]\n",
    "X_sel = X_vt_df.drop(columns=to_drop)\n"
   ],
   "id": "b9dda76ed15978df",
   "outputs": [],
   "execution_count": 5
  },
  {
   "metadata": {
    "ExecuteTime": {
     "end_time": "2025-09-23T16:06:48.465163Z",
     "start_time": "2025-09-23T16:06:48.400941Z"
    }
   },
   "cell_type": "code",
   "source": [
 
    "pca = PCA(n_components=0.95, random_state=42).fit(X_sel)\n",
    "print(\"PCA components for 95% variance:\", pca.n_components_)\n",
    "print(\"Dropped (low variance):\", [c for c in X.columns if c not in X_vt_df.columns])\n",
    "print(\"Dropped (high corr):\", to_drop)"
   ],
   "id": "a3781604f8f4635a",
   "outputs": [
    {
     "name": "stdout",
     "output_type": "stream",
     "text": [
      "PCA components for 95% variance: 2\n",
      "Dropped (low variance): ['Age_Group_Middle', 'Age_Group_Senior', 'Age_Group_Elderly']\n",
      "Dropped (high corr): ['Bilirubin_Albumin_Ratio']\n"
     ]
    }
   ],
   "execution_count": 6
  },
  {
   "metadata": {
    "ExecuteTime": {
     "end_time": "2025-09-23T16:06:50.015756Z",
     "start_time": "2025-09-23T16:06:49.862184Z"
    }
   },
   "cell_type": "code",
   "source": [

    "out_df = X_sel.copy()\n",
    "if target:\n",
    "    out_df[target] = y\n",
    "out_df.to_csv(OUT / \"feature_selected.csv\", index=False)\n",
    "print(\"Saved:\", (OUT / \"feature_selected.csv\").as_posix(), \"| shape:\", out_df.shape)"
   ],
   "id": "ea50da3b9b1b5c82",
   "outputs": [
    {
     "name": "stdout",
     "output_type": "stream",
     "text": [
      "Saved: ../results/outputs/feature_selected.csv | shape: (15361, 19)\n"
     ]
    }
   ],
   "execution_count": 7
  }
 ],
 "metadata": {
  "kernelspec": {
   "display_name": "Python 3",
   "language": "python",
   "name": "python3"
  },
  "language_info": {
   "codemirror_mode": {
    "name": "ipython",
    "version": 2
   },
   "file_extension": ".py",
   "mimetype": "text/x-python",
   "name": "python",
   "nbconvert_exporter": "python",
   "pygments_lexer": "ipython2",
   "version": "2.7.6"
  }
 },
 "nbformat": 4,
 "nbformat_minor": 5
}
