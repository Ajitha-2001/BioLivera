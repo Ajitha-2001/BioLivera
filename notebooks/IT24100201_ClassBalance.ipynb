{
 "cells": [
  {
   "cell_type": "code",
   "id": "initial_id",
   "metadata": {
    "collapsed": true,
    "ExecuteTime": {
     "end_time": "2025-09-24T07:49:24.168286Z",
     "start_time": "2025-09-24T07:49:21.094408Z"
    }
   },
   "source": [
    
    "from pathlib import Path\n",
    "import pandas as pd\n",
    "import numpy as np\n",
    "import matplotlib.pyplot as plt\n",
    "from sklearn.preprocessing import LabelEncoder\n",
    "from imblearn.over_sampling import SMOTE\n",
    "from collections import Counter\n",
    "import warnings\n",
    "\n",
    "warnings.filterwarnings(\"ignore\")\n",
    "\n",
    "RAW   = Path(\"../results/outputs/feature_selected.csv\")\n",
    "PLOTS = Path(\"../results/eda_visualizations\"); PLOTS.mkdir(parents=True, exist_ok=True)\n",
    "OUT   = Path(\"../results/outputs\");           OUT.mkdir(parents=True, exist_ok=True)\n",
    "\n",
    "assert RAW.exists() and RAW.stat().st_size > 0, f\"Dataset missing/empty at {RAW.resolve()}\"\n"
   ],
   "outputs": [],
   "execution_count": 1
  },
  {
   "metadata": {
    "ExecuteTime": {
     "end_time": "2025-09-24T07:49:29.645732Z",
     "start_time": "2025-09-24T07:49:29.604517Z"
    }
   },
   "cell_type": "code",
   "source": [
    
    "df = pd.read_csv(RAW)"
   ],
   "id": "5ea0cd59c66ddaa2",
   "outputs": [],
   "execution_count": 2
  },
  {
   "metadata": {
    "ExecuteTime": {
     "end_time": "2025-09-24T07:49:31.508370Z",
     "start_time": "2025-09-24T07:49:31.500290Z"
    }
   },
   "cell_type": "code",
   "source": [
    
    "assert 'Status' in df.columns, \"Target 'Status' not found.\"\n",
    "y_str = df['Status'].astype(str)\n",
    "X = df.drop(columns=['Status'])"
   ],
   "id": "2a28f1dfda1ee04",
   "outputs": [],
   "execution_count": 3
  },
  {
   "metadata": {
    "ExecuteTime": {
     "end_time": "2025-09-24T07:49:33.009131Z",
     "start_time": "2025-09-24T07:49:33.002993Z"
    }
   },
   "cell_type": "code",
   "source": [
   
    "cat_cols = X.select_dtypes(include=['object', 'category', 'string']).columns.tolist()\n",
    "if cat_cols:\n",
    "    X = pd.get_dummies(X, columns=cat_cols, drop_first=True)"
   ],
   "id": "f5fb88ecb6015bca",
   "outputs": [],
   "execution_count": 4
  },
  {
   "metadata": {
    "ExecuteTime": {
     "end_time": "2025-09-24T07:49:34.245776Z",
     "start_time": "2025-09-24T07:49:34.215846Z"
    }
   },
   "cell_type": "code",
   "source": [
    
    "for c in X.columns:\n",
    "    if X[c].dtype == bool:\n",
    "        X[c] = X[c].astype(int)\n",
    "\n",
    "X = X.apply(pd.to_numeric, errors='coerce')\n",
    "X = X.replace([np.inf, -np.inf], np.nan)\n",
    "X = X.fillna(X.median(numeric_only=True))\n",
    "X = X.fillna(0)\n",
    "X = X.astype(float)"
   ],
   "id": "6adbba9de636e6a4",
   "outputs": [],
   "execution_count": 5
  },
  {
   "metadata": {
    "ExecuteTime": {
     "end_time": "2025-09-24T07:49:35.803211Z",
     "start_time": "2025-09-24T07:49:35.793901Z"
    }
   },
   "cell_type": "code",
   "source": [
   
    "y_le = LabelEncoder()\n",
    "y = y_le.fit_transform(y_str)"
   ],
   "id": "ce04b9ac04a96c70",
   "outputs": [],
   "execution_count": 6
  },
  {
   "metadata": {
    "ExecuteTime": {
     "end_time": "2025-09-24T07:49:37.855081Z",
     "start_time": "2025-09-24T07:49:37.841026Z"
    }
   },
   "cell_type": "code",
   "source": [
   
    "arr = X.to_numpy()\n",
    "assert np.isfinite(arr).all(), \"Non-finite values remain in X.\"\n",
    "assert len(np.unique(y)) >= 2, \"SMOTE needs at least two classes.\"\n"
   ],
   "id": "6ea581122c27a6a1",
   "outputs": [],
   "execution_count": 7
  },
  {
   "metadata": {
    "ExecuteTime": {
     "end_time": "2025-09-24T07:49:40.093095Z",
     "start_time": "2025-09-24T07:49:40.081055Z"
    }
   },
   "cell_type": "code",
   "source": [
   
    "class_counts = Counter(y)\n",
    "min_class_count = min(class_counts.values())\n",
    "k = max(1, min(5, min_class_count - 1))\n",
    "print(f\"Class counts BEFORE SMOTE: {class_counts} | k_neighbors={k}\")"
   ],
   "id": "8a978a12c2a844c5",
   "outputs": [
    {
     "name": "stdout",
     "output_type": "stream",
     "text": [
      "Class counts BEFORE SMOTE: Counter({np.int64(0): 10142, np.int64(2): 3829, np.int64(1): 1390}) | k_neighbors=5\n"
     ]
    }
   ],
   "execution_count": 8
  },
  {
   "metadata": {
    "ExecuteTime": {
     "end_time": "2025-09-24T07:49:44.707410Z",
     "start_time": "2025-09-24T07:49:44.471802Z"
    }
   },
   "cell_type": "code",
   "source": [
   
    "plt.figure()\n",
    "pd.Series(y).value_counts().sort_index().plot(kind='bar')\n",
    "plt.title(\"Target distribution – BEFORE SMOTE\")\n",
    "plt.xlabel(\"Class index\");\n",
    "plt.ylabel(\"Count\")\n",
    "plt.tight_layout();\n",
    "plt.savefig(PLOTS / \"06_target_before_smote.png\");\n",
    "plt.close()\n"
   ],
   "id": "164aa216f1f5ae97",
   "outputs": [],
   "execution_count": 9
  },
  {
   "metadata": {
    "ExecuteTime": {
     "end_time": "2025-09-24T07:49:49.598965Z",
     "start_time": "2025-09-24T07:49:46.883062Z"
    }
   },
   "cell_type": "code",
   "source": [
    "from imblearn.under_sampling import RandomUnderSampler\n",
    "from imblearn.pipeline import Pipeline\n",
    "\n",
    
    "rus = RandomUnderSampler(random_state=42, sampling_strategy={0: 5000, 1: 1390, 2: 3829})\n",
    "\n",
    
    "sm = SMOTE(random_state=42, k_neighbors=k, sampling_strategy={1: 5000, 2: 5000})\n",
    "\n",
    "pipeline = Pipeline(steps=[('under', rus), ('smote', sm)])\n",
    "X_sm, y_sm = pipeline.fit_resample(X, y)\n"
   ],
   "id": "d04d2c075f2007ec",
   "outputs": [],
   "execution_count": 10
  },
  {
   "metadata": {
    "ExecuteTime": {
     "end_time": "2025-09-24T07:49:51.548775Z",
     "start_time": "2025-09-24T07:49:51.428287Z"
    }
   },
   "cell_type": "code",
   "source": [
   
    "plt.figure()\n",
    "pd.Series(y_sm).value_counts().sort_index().plot(kind='bar')\n",
    "plt.title(\"Target distribution – AFTER SMOTE (≈5k each)\")\n",
    "plt.xlabel(\"Class index\");\n",
    "plt.ylabel(\"Count\")\n",
    "plt.tight_layout();\n",
    "plt.savefig(PLOTS / \"06_target_after_smote.png\");\n",
    "plt.close()"
   ],
   "id": "b0e27e0e24d2c7ff",
   "outputs": [],
   "execution_count": 11
  },
  {
   "metadata": {
    "ExecuteTime": {
     "end_time": "2025-09-24T07:49:53.817304Z",
     "start_time": "2025-09-24T07:49:53.634537Z"
    }
   },
   "cell_type": "code",
   "source": [
    
    "balanced = pd.DataFrame(X_sm, columns=X.columns)\n",
    "balanced['Status'] = y_sm\n",
    "out_path = OUT / \"smote_balanced.csv\"\n",
    "balanced.to_csv(out_path, index=False)\n",
    "\n",
    "print(\"Label mapping (index -> class):\", dict(enumerate(y_le.classes_)))\n",
    "print(\"Class counts AFTER SMOTE:\", Counter(y_sm))\n",
    "print(\"✅ Saved balanced dataset ->\", out_path.resolve(), \"| shape:\", balanced.shape)\n",
    "\n",
    "balanced.head()"
   ],
   "id": "3a1ce13e6e6dfb2f",
   "outputs": [
    {
     "name": "stdout",
     "output_type": "stream",
     "text": [
      "Label mapping (index -> class): {0: '0', 1: '1', 2: '2'}\n",
      "Class counts AFTER SMOTE: Counter({np.int64(0): 5000, np.int64(1): 5000, np.int64(2): 5000})\n",
      "✅ Saved balanced dataset -> F:\\BioLivera\\results\\outputs\\smote_balanced.csv | shape: (15000, 19)\n"
     ]
    },
    {
     "data": {
      "text/plain": [
       "   N_Days      Age  Sex  Ascites  Hepatomegaly  Spiders  Edema  Bilirubin  \\\n",
       "0  3820.0  14161.0  0.0      1.0           0.0      0.0    0.0        1.8   \n",
       "1  1874.0  24257.0  0.0      0.0           0.0      0.0    1.0        0.6   \n",
       "2  2772.0  17897.0  0.0      1.0           0.0      1.0    1.0        0.6   \n",
       "3  1328.0  20597.0  0.0      0.0           1.0      0.0    0.0        0.5   \n",
       "4  1408.0  13918.0  0.0      0.0           1.0      1.0    0.0        2.0   \n",
       "\n",
       "   Cholesterol  Albumin      Copper     Alk_Phos        SGOT  Tryglicerides  \\\n",
       "0   460.000000     3.85  148.000000  1472.000000  108.500000     118.000000   \n",
       "1   280.000000     3.35   97.648387  1044.000000  128.650000      89.000000   \n",
       "2   217.000000     3.62   13.000000   414.000000   75.950000     119.000000   \n",
       "3   369.510563     3.45   97.648387  1982.655769  122.556346     124.702128   \n",
       "4   310.000000     3.36   70.000000  1257.000000  122.000000     118.000000   \n",
       "\n",
       "   Platelets  Prothrombin  Stage  Drug_Placebo  Status  \n",
       "0      388.0         10.1    1.0           0.0       0  \n",
       "1      295.0          9.8    1.0           1.0       0  \n",
       "2      225.0          9.9    1.0           1.0       0  \n",
       "3      227.0         10.7    1.0           1.0       0  \n",
       "4      136.0         10.9    2.0           1.0       0  "
      ],
      "text/html": [
       "<div>\n",
       "<style scoped>\n",
       "    .dataframe tbody tr th:only-of-type {\n",
       "        vertical-align: middle;\n",
       "    }\n",
       "\n",
       "    .dataframe tbody tr th {\n",
       "        vertical-align: top;\n",
       "    }\n",
       "\n",
       "    .dataframe thead th {\n",
       "        text-align: right;\n",
       "    }\n",
       "</style>\n",
       "<table border=\"1\" class=\"dataframe\">\n",
       "  <thead>\n",
       "    <tr style=\"text-align: right;\">\n",
       "      <th></th>\n",
       "      <th>N_Days</th>\n",
       "      <th>Age</th>\n",
       "      <th>Sex</th>\n",
       "      <th>Ascites</th>\n",
       "      <th>Hepatomegaly</th>\n",
       "      <th>Spiders</th>\n",
       "      <th>Edema</th>\n",
       "      <th>Bilirubin</th>\n",
       "      <th>Cholesterol</th>\n",
       "      <th>Albumin</th>\n",
       "      <th>Copper</th>\n",
       "      <th>Alk_Phos</th>\n",
       "      <th>SGOT</th>\n",
       "      <th>Tryglicerides</th>\n",
       "      <th>Platelets</th>\n",
       "      <th>Prothrombin</th>\n",
       "      <th>Stage</th>\n",
       "      <th>Drug_Placebo</th>\n",
       "      <th>Status</th>\n",
       "    </tr>\n",
       "  </thead>\n",
       "  <tbody>\n",
       "    <tr>\n",
       "      <th>0</th>\n",
       "      <td>3820.0</td>\n",
       "      <td>14161.0</td>\n",
       "      <td>0.0</td>\n",
       "      <td>1.0</td>\n",
       "      <td>0.0</td>\n",
       "      <td>0.0</td>\n",
       "      <td>0.0</td>\n",
       "      <td>1.8</td>\n",
       "      <td>460.000000</td>\n",
       "      <td>3.85</td>\n",
       "      <td>148.000000</td>\n",
       "      <td>1472.000000</td>\n",
       "      <td>108.500000</td>\n",
       "      <td>118.000000</td>\n",
       "      <td>388.0</td>\n",
       "      <td>10.1</td>\n",
       "      <td>1.0</td>\n",
       "      <td>0.0</td>\n",
       "      <td>0</td>\n",
       "    </tr>\n",
       "    <tr>\n",
       "      <th>1</th>\n",
       "      <td>1874.0</td>\n",
       "      <td>24257.0</td>\n",
       "      <td>0.0</td>\n",
       "      <td>0.0</td>\n",
       "      <td>0.0</td>\n",
       "      <td>0.0</td>\n",
       "      <td>1.0</td>\n",
       "      <td>0.6</td>\n",
       "      <td>280.000000</td>\n",
       "      <td>3.35</td>\n",
       "      <td>97.648387</td>\n",
       "      <td>1044.000000</td>\n",
       "      <td>128.650000</td>\n",
       "      <td>89.000000</td>\n",
       "      <td>295.0</td>\n",
       "      <td>9.8</td>\n",
       "      <td>1.0</td>\n",
       "      <td>1.0</td>\n",
       "      <td>0</td>\n",
       "    </tr>\n",
       "    <tr>\n",
       "      <th>2</th>\n",
       "      <td>2772.0</td>\n",
       "      <td>17897.0</td>\n",
       "      <td>0.0</td>\n",
       "      <td>1.0</td>\n",
       "      <td>0.0</td>\n",
       "      <td>1.0</td>\n",
       "      <td>1.0</td>\n",
       "      <td>0.6</td>\n",
       "      <td>217.000000</td>\n",
       "      <td>3.62</td>\n",
       "      <td>13.000000</td>\n",
       "      <td>414.000000</td>\n",
       "      <td>75.950000</td>\n",
       "      <td>119.000000</td>\n",
       "      <td>225.0</td>\n",
       "      <td>9.9</td>\n",
       "      <td>1.0</td>\n",
       "      <td>1.0</td>\n",
       "      <td>0</td>\n",
       "    </tr>\n",
       "    <tr>\n",
       "      <th>3</th>\n",
       "      <td>1328.0</td>\n",
       "      <td>20597.0</td>\n",
       "      <td>0.0</td>\n",
       "      <td>0.0</td>\n",
       "      <td>1.0</td>\n",
       "      <td>0.0</td>\n",
       "      <td>0.0</td>\n",
       "      <td>0.5</td>\n",
       "      <td>369.510563</td>\n",
       "      <td>3.45</td>\n",
       "      <td>97.648387</td>\n",
       "      <td>1982.655769</td>\n",
       "      <td>122.556346</td>\n",
       "      <td>124.702128</td>\n",
       "      <td>227.0</td>\n",
       "      <td>10.7</td>\n",
       "      <td>1.0</td>\n",
       "      <td>1.0</td>\n",
       "      <td>0</td>\n",
       "    </tr>\n",
       "    <tr>\n",
       "      <th>4</th>\n",
       "      <td>1408.0</td>\n",
       "      <td>13918.0</td>\n",
       "      <td>0.0</td>\n",
       "      <td>0.0</td>\n",
       "      <td>1.0</td>\n",
       "      <td>1.0</td>\n",
       "      <td>0.0</td>\n",
       "      <td>2.0</td>\n",
       "      <td>310.000000</td>\n",
       "      <td>3.36</td>\n",
       "      <td>70.000000</td>\n",
       "      <td>1257.000000</td>\n",
       "      <td>122.000000</td>\n",
       "      <td>118.000000</td>\n",
       "      <td>136.0</td>\n",
       "      <td>10.9</td>\n",
       "      <td>2.0</td>\n",
       "      <td>1.0</td>\n",
       "      <td>0</td>\n",
       "    </tr>\n",
       "  </tbody>\n",
       "</table>\n",
       "</div>"
      ]
     },
     "execution_count": 12,
     "metadata": {},
     "output_type": "execute_result"
    }
   ],
   "execution_count": 12
  }
 ],
 "metadata": {
  "kernelspec": {
   "display_name": "Python 3",
   "language": "python",
   "name": "python3"
  },
  "language_info": {
   "codemirror_mode": {
    "name": "ipython",
    "version": 2
   },
   "file_extension": ".py",
   "mimetype": "text/x-python",
   "name": "python",
   "nbconvert_exporter": "python",
   "pygments_lexer": "ipython2",
   "version": "2.7.6"
  }
 },
 "nbformat": 4,
 "nbformat_minor": 5
}
