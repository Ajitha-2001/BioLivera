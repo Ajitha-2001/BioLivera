{
 "cells": [
  {
   "metadata": {
    "ExecuteTime": {
     "end_time": "2025-09-25T09:43:15.836857Z",
     "start_time": "2025-09-25T09:43:13.845294Z"
    }
   },
   "cell_type": "code",
   "source": [
    "from pathlib import Path\n",
    "import pandas as pd, numpy as np\n",
    "import matplotlib.pyplot as plt\n",
    "\n",
    "RAW = Path(\"../results/outputs/encoded.csv\")\n",
    "PLOTS = Path(\"../results/eda_visualizations\"); PLOTS.mkdir(parents=True, exist_ok=True)\n",
    "OUT = Path(\"../results/outputs\"); OUT.mkdir(parents=True, exist_ok=True)\n",
    "OUT_CSV = OUT / \"feature_engineered.csv\"\n",
    "\n",
    "assert RAW.exists() and RAW.stat().st_size > 0, f\"Missing/empty: {RAW.resolve()}\""
   ],
   "id": "94d8a759cbae67be",
   "outputs": [],
   "execution_count": 1
  },
  {
   "metadata": {
    "ExecuteTime": {
     "end_time": "2025-09-25T09:43:21.598164Z",
     "start_time": "2025-09-25T09:43:21.549080Z"
    }
   },
   "cell_type": "code",
   "source": "df = pd.read_csv(RAW)",
   "id": "ba179ab7b5beee36",
   "outputs": [],
   "execution_count": 2
  },
  {
   "metadata": {
    "ExecuteTime": {
     "end_time": "2025-09-25T09:43:24.851802Z",
     "start_time": "2025-09-25T09:43:24.579090Z"
    }
   },
   "cell_type": "code",
   "source": [
    "if \"Age\" in df.columns:\n",
    "    df[\"Age\"] = pd.to_numeric(df[\"Age\"], errors=\"coerce\")\n",
    "    med = df[\"Age\"].median()\n",
    "    df[\"Age_Years\"] = df[\"Age\"] / 365.25 if pd.notna(med) and med > 150 else df[\"Age\"]\n",
    "    bins = [0, 40, 60, 80, 120]; labels = [\"Young\",\"Middle\",\"Senior\",\"Elderly\"]\n",
    "    age_for_bins = df[\"Age_Years\"].where((df[\"Age_Years\"]>=0)&(df[\"Age_Years\"]<=120))\n",
    "    df[\"Age_Group\"] = pd.cut(age_for_bins, bins=bins, labels=labels, right=False, include_lowest=True)\n",
    "\n",
    "    if df[\"Age_Group\"].notna().any():\n",
    "        c = df[\"Age_Group\"].value_counts().reindex(labels, fill_value=0)\n",
    "        plt.figure(); c.plot(kind=\"bar\")\n",
    "        plt.title(\"Age Group Distribution\"); plt.xlabel(\"Age_Group\"); plt.ylabel(\"Count\")\n",
    "        plt.tight_layout(); plt.savefig(PLOTS / \"03_age_group_distribution.png\"); plt.close()"
   ],
   "id": "da2600f48d0e910d",
   "outputs": [],
   "execution_count": 3
  },
  {
   "metadata": {
    "ExecuteTime": {
     "end_time": "2025-09-25T09:43:27.990844Z",
     "start_time": "2025-09-25T09:43:27.844218Z"
    }
   },
   "cell_type": "code",
   "source": [
    "for col in [\"Bilirubin\",\"Albumin\"]:\n",
    "    if col in df.columns: df[col] = pd.to_numeric(df[col], errors=\"coerce\")\n",
    "if {\"Bilirubin\",\"Albumin\"}.issubset(df.columns):\n",
    "    alb = df[\"Albumin\"].mask(df[\"Albumin\"]<=1e-6, np.nan)\n",
    "    df[\"Bilirubin_Albumin_Ratio\"] = (df[\"Bilirubin\"]/alb).clip(upper=50)\n",
    "    ratio_clean = pd.to_numeric(df[\"Bilirubin_Albumin_Ratio\"], errors=\"coerce\").dropna()\n",
    "    if not ratio_clean.empty:\n",
    "        plt.figure(); ratio_clean.hist(bins=40)\n",
    "        plt.title(\"Bilirubin/Albumin Ratio\"); plt.xlabel(\"Ratio\"); plt.ylabel(\"Frequency\")\n",
    "        plt.tight_layout(); plt.savefig(PLOTS / \"03_ba_ratio_hist.png\"); plt.close()\n"
   ],
   "id": "faebf2ab2e256865",
   "outputs": [],
   "execution_count": 4
  },
  {
   "metadata": {
    "ExecuteTime": {
     "end_time": "2025-09-25T09:43:36.406752Z",
     "start_time": "2025-09-25T09:43:36.238261Z"
    }
   },
   "cell_type": "code",
   "source": [
    "if \"Age_Group\" in df.columns:\n",
    "    df = pd.get_dummies(df, columns=[\"Age_Group\"], drop_first=True)  # baseline=Young\n",
    "df.to_csv(OUT_CSV, index=False)"
   ],
   "id": "c5526fa4bad70347",
   "outputs": [],
   "execution_count": 5
  },
  {
   "metadata": {
    "ExecuteTime": {
     "end_time": "2025-09-25T09:43:38.212292Z",
     "start_time": "2025-09-25T09:43:38.196412Z"
    }
   },
   "cell_type": "code",
   "source": [
    "print(f\"Saved -> {OUT_CSV.resolve()}\")\n",
    "if \"Age_Years\" in df.columns:\n",
    "    print(f\"Age_Years median: {pd.to_numeric(df['Age_Years'], errors='coerce').median():.2f}\")\n",
    "if \"Bilirubin_Albumin_Ratio\" in df.columns:\n",
    "    q = pd.to_numeric(df[\"Bilirubin_Albumin_Ratio\"], errors=\"coerce\").dropna().quantile([0.5,0.9])\n",
    "    print(f\"BA ratio median={q.loc[0.5]:.3f}, p90={q.loc[0.9]:.3f}\")"
   ],
   "id": "2c8250aa2e336fcf",
   "outputs": [
    {
     "name": "stdout",
     "output_type": "stream",
     "text": [
      "Saved -> F:\\BioLivera3\\results\\outputs\\feature_engineered.csv\n",
      "Age_Years median: 50.25\n",
      "BA ratio median=0.308, p90=1.003\n"
     ]
    }
   ],
   "execution_count": 6
  }
 ],
 "metadata": {
  "kernelspec": {
   "display_name": "Python 3",
   "language": "python",
   "name": "python3"
  },
  "language_info": {
   "codemirror_mode": {
    "name": "ipython",
    "version": 2
   },
   "file_extension": ".py",
   "mimetype": "text/x-python",
   "name": "python",
   "nbconvert_exporter": "python",
   "pygments_lexer": "ipython2",
   "version": "2.7.6"
  }
 },
 "nbformat": 4,
 "nbformat_minor": 5
}
