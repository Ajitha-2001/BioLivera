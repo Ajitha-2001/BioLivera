{
 "cells": [
  {
   "metadata": {
    "ExecuteTime": {
     "end_time": "2025-09-23T15:40:16.045377Z",
     "start_time": "2025-09-23T15:40:16.028155Z"
    }
   },
   "cell_type": "code",
   "source": [
    "from pathlib import Path\n",
    "import pandas as pd\n",
    "import numpy as np\n",
    "import matplotlib.pyplot as plt\n",
    "\n",
    "RAW   = Path(\"../results/outputs/encoded.csv\")\n",
    "PLOTS = Path(\"../results/eda_visualizations\"); PLOTS.mkdir(parents=True, exist_ok=True)\n",
    "OUT   = Path(\"../results/outputs\");           OUT.mkdir(parents=True, exist_ok=True)\n",
    "\n",
    "assert RAW.exists() and RAW.stat().st_size > 0, f\"Dataset missing/empty at {RAW.resolve()}\""
   ],
   "id": "94d8a759cbae67be",
   "outputs": [],
   "execution_count": 2
  },
  {
   "metadata": {
    "ExecuteTime": {
     "end_time": "2025-09-23T15:40:17.991182Z",
     "start_time": "2025-09-23T15:40:17.938173Z"
    }
   },
   "cell_type": "code",
   "source": [
    
    "df = pd.read_csv(RAW)"
   ],
   "id": "ba179ab7b5beee36",
   "outputs": [],
   "execution_count": 3
  },
  {
   "metadata": {
    "ExecuteTime": {
     "end_time": "2025-09-23T15:40:19.774432Z",
     "start_time": "2025-09-23T15:40:19.766971Z"
    }
   },
   "cell_type": "code",
   "source": [
   
    "if 'Age' in df.columns:\n",
    "    df['Age'] = pd.to_numeric(df['Age'], errors='coerce')"
   ],
   "id": "da2600f48d0e910d",
   "outputs": [],
   "execution_count": 4
  },
  {
   "metadata": {
    "ExecuteTime": {
     "end_time": "2025-09-23T15:40:22.293013Z",
     "start_time": "2025-09-23T15:40:22.274535Z"
    }
   },
   "cell_type": "code",
   "source": [
   
    "labels = ['Young', 'Middle', 'Senior', 'Elderly']\n",
    "if 'Age' in df.columns:\n",
    
    "    upper = max(120, int(np.nanmax(df['Age'])) + 1) if df['Age'].notna().any() else 120\n",
    "    bins = [0, 40, 60, 80, upper]\n",
    "    df['Age_Group'] = pd.cut(\n",
    "        df['Age'],\n",
    "        bins=bins,\n",
    "        labels=labels,\n",
    "        right=False,\n",       
    "        include_lowest=True\n",
    "    )"
   ],
   "id": "faebf2ab2e256865",
   "outputs": [],
   "execution_count": 5
  },
  {
   "metadata": {
    "ExecuteTime": {
     "end_time": "2025-09-23T15:40:24.526452Z",
     "start_time": "2025-09-23T15:40:24.515441Z"
    }
   },
   "cell_type": "code",
   "source": [
   
    "if {'Bilirubin', 'Albumin'}.issubset(df.columns):\n",
    "    df['Bilirubin_Albumin_Ratio'] = df['Bilirubin'] / (df['Albumin'] + 1e-6)"
   ],
   "id": "c5526fa4bad70347",
   "outputs": [],
   "execution_count": 6
  },
  {
   "metadata": {
    "ExecuteTime": {
     "end_time": "2025-09-23T15:40:26.843307Z",
     "start_time": "2025-09-23T15:40:26.572461Z"
    }
   },
   "cell_type": "code",
   "source": [
   
    "if 'Age_Group' in df.columns:\n",
    "    counts = df['Age_Group'].value_counts().reindex(labels, fill_value=0)\n",
    "    plt.figure()\n",
    "    counts.plot(kind='bar')\n",
    "    plt.title(\"Age Group Distribution\")\n",
    "    plt.xlabel(\"Age_Group\"); plt.ylabel(\"Count\")\n",
    "    plt.tight_layout(); plt.savefig(PLOTS / \"03_age_group_distribution.png\"); plt.close()\n",
    "\n",
    "if 'Bilirubin_Albumin_Ratio' in df.columns:\n",
    "    plt.figure()\n",
    "    pd.to_numeric(df['Bilirubin_Albumin_Ratio'], errors='coerce').dropna().hist(bins=40)\n",
    "    plt.title(\"Bilirubin/Albumin Ratio\")\n",
    "    plt.xlabel(\"Ratio\"); plt.ylabel(\"Frequency\")\n",
    "    plt.tight_layout(); plt.savefig(PLOTS / \"03_ba_ratio_hist.png\"); plt.close()\n"
   ],
   "id": "2c8250aa2e336fcf",
   "outputs": [],
   "execution_count": 7
  },
  {
   "metadata": {
    "ExecuteTime": {
     "end_time": "2025-09-23T15:40:28.789310Z",
     "start_time": "2025-09-23T15:40:28.758787Z"
    }
   },
   "cell_type": "code",
   "source": [
    
    "if 'Age_Group' in df.columns:\n",
    "    df = pd.get_dummies(df, columns=['Age_Group'], drop_first=True)"
   ],
   "id": "20da55f24e680a29",
   "outputs": [],
   "execution_count": 8
  },
  {
   "metadata": {
    "ExecuteTime": {
     "end_time": "2025-09-23T15:40:30.365625Z",
     "start_time": "2025-09-23T15:40:30.222463Z"
    }
   },
   "cell_type": "code",
   "source": [
    
    "out_path = OUT / \"feature_engineered.csv\"\n",
    "df.to_csv(out_path, index=False)\n",
    "print(\"Saved feature-engineered dataset ->\", out_path.resolve())"
   ],
   "id": "2ed43be38d683ff6",
   "outputs": [
    {
     "name": "stdout",
     "output_type": "stream",
     "text": [
      "Saved feature-engineered dataset -> F:\\BioLivera\\results\\outputs\\feature_engineered.csv\n"
     ]
    }
   ],
   "execution_count": 9
  },
  {
   "metadata": {
    "ExecuteTime": {
     "end_time": "2025-09-23T15:40:31.818263Z",
     "start_time": "2025-09-23T15:40:31.784628Z"
    }
   },
   "cell_type": "code",
   "source": [
    
    "df.head()"
   ],
   "id": "5aa268bc63e8875",
   "outputs": [
    {
     "data": {
      "text/plain": [
       "   N_Days Status    Age  Sex  Ascites  Hepatomegaly  Spiders  Edema  \\\n",
       "0    1230      C  19724    1        1             0        1      0   \n",
       "1    4184      C  11839    0        0             0        0      0   \n",
       "2    2090      D  16467    0        0             0        0      0   \n",
       "3    2105      D  21699    0        0             1        0      0   \n",
       "4    2504      C  15265    0        0             0        0      0   \n",
       "\n",
       "   Bilirubin  Cholesterol  ...    SGOT  Tryglicerides  Platelets  Prothrombin  \\\n",
       "0        0.5   219.000000  ...   45.00      75.000000      220.0         10.8   \n",
       "1        0.5   320.000000  ...  122.45      80.000000      225.0         10.0   \n",
       "2        0.7   255.000000  ...   77.50      58.000000      151.0         10.2   \n",
       "3        1.9   486.000000  ...  108.50     109.000000      151.0         11.5   \n",
       "4        2.3   369.510563  ...  133.30     124.702128      474.0         10.9   \n",
       "\n",
       "   Stage  Drug_Placebo  Bilirubin_Albumin_Ratio  Age_Group_Middle  \\\n",
       "0      2          True                 0.127226             False   \n",
       "1      2          True                 0.141243             False   \n",
       "2      2          True                 0.187166             False   \n",
       "3      1          True                 0.536723             False   \n",
       "4      1          True                 0.585242             False   \n",
       "\n",
       "   Age_Group_Senior  Age_Group_Elderly  \n",
       "0             False               True  \n",
       "1             False               True  \n",
       "2             False               True  \n",
       "3             False               True  \n",
       "4             False               True  \n",
       "\n",
       "[5 rows x 23 columns]"
      ],
      "text/html": [
       "<div>\n",
       "<style scoped>\n",
       "    .dataframe tbody tr th:only-of-type {\n",
       "        vertical-align: middle;\n",
       "    }\n",
       "\n",
       "    .dataframe tbody tr th {\n",
       "        vertical-align: top;\n",
       "    }\n",
       "\n",
       "    .dataframe thead th {\n",
       "        text-align: right;\n",
       "    }\n",
       "</style>\n",
       "<table border=\"1\" class=\"dataframe\">\n",
       "  <thead>\n",
       "    <tr style=\"text-align: right;\">\n",
       "      <th></th>\n",
       "      <th>N_Days</th>\n",
       "      <th>Status</th>\n",
       "      <th>Age</th>\n",
       "      <th>Sex</th>\n",
       "      <th>Ascites</th>\n",
       "      <th>Hepatomegaly</th>\n",
       "      <th>Spiders</th>\n",
       "      <th>Edema</th>\n",
       "      <th>Bilirubin</th>\n",
       "      <th>Cholesterol</th>\n",
       "      <th>...</th>\n",
       "      <th>SGOT</th>\n",
       "      <th>Tryglicerides</th>\n",
       "      <th>Platelets</th>\n",
       "      <th>Prothrombin</th>\n",
       "      <th>Stage</th>\n",
       "      <th>Drug_Placebo</th>\n",
       "      <th>Bilirubin_Albumin_Ratio</th>\n",
       "      <th>Age_Group_Middle</th>\n",
       "      <th>Age_Group_Senior</th>\n",
       "      <th>Age_Group_Elderly</th>\n",
       "    </tr>\n",
       "  </thead>\n",
       "  <tbody>\n",
       "    <tr>\n",
       "      <th>0</th>\n",
       "      <td>1230</td>\n",
       "      <td>C</td>\n",
       "      <td>19724</td>\n",
       "      <td>1</td>\n",
       "      <td>1</td>\n",
       "      <td>0</td>\n",
       "      <td>1</td>\n",
       "      <td>0</td>\n",
       "      <td>0.5</td>\n",
       "      <td>219.000000</td>\n",
       "      <td>...</td>\n",
       "      <td>45.00</td>\n",
       "      <td>75.000000</td>\n",
       "      <td>220.0</td>\n",
       "      <td>10.8</td>\n",
       "      <td>2</td>\n",
       "      <td>True</td>\n",
       "      <td>0.127226</td>\n",
       "      <td>False</td>\n",
       "      <td>False</td>\n",
       "      <td>True</td>\n",
       "    </tr>\n",
       "    <tr>\n",
       "      <th>1</th>\n",
       "      <td>4184</td>\n",
       "      <td>C</td>\n",
       "      <td>11839</td>\n",
       "      <td>0</td>\n",
       "      <td>0</td>\n",
       "      <td>0</td>\n",
       "      <td>0</td>\n",
       "      <td>0</td>\n",
       "      <td>0.5</td>\n",
       "      <td>320.000000</td>\n",
       "      <td>...</td>\n",
       "      <td>122.45</td>\n",
       "      <td>80.000000</td>\n",
       "      <td>225.0</td>\n",
       "      <td>10.0</td>\n",
       "      <td>2</td>\n",
       "      <td>True</td>\n",
       "      <td>0.141243</td>\n",
       "      <td>False</td>\n",
       "      <td>False</td>\n",
       "      <td>True</td>\n",
       "    </tr>\n",
       "    <tr>\n",
       "      <th>2</th>\n",
       "      <td>2090</td>\n",
       "      <td>D</td>\n",
       "      <td>16467</td>\n",
       "      <td>0</td>\n",
       "      <td>0</td>\n",
       "      <td>0</td>\n",
       "      <td>0</td>\n",
       "      <td>0</td>\n",
       "      <td>0.7</td>\n",
       "      <td>255.000000</td>\n",
       "      <td>...</td>\n",
       "      <td>77.50</td>\n",
       "      <td>58.000000</td>\n",
       "      <td>151.0</td>\n",
       "      <td>10.2</td>\n",
       "      <td>2</td>\n",
       "      <td>True</td>\n",
       "      <td>0.187166</td>\n",
       "      <td>False</td>\n",
       "      <td>False</td>\n",
       "      <td>True</td>\n",
       "    </tr>\n",
       "    <tr>\n",
       "      <th>3</th>\n",
       "      <td>2105</td>\n",
       "      <td>D</td>\n",
       "      <td>21699</td>\n",
       "      <td>0</td>\n",
       "      <td>0</td>\n",
       "      <td>1</td>\n",
       "      <td>0</td>\n",
       "      <td>0</td>\n",
       "      <td>1.9</td>\n",
       "      <td>486.000000</td>\n",
       "      <td>...</td>\n",
       "      <td>108.50</td>\n",
       "      <td>109.000000</td>\n",
       "      <td>151.0</td>\n",
       "      <td>11.5</td>\n",
       "      <td>1</td>\n",
       "      <td>True</td>\n",
       "      <td>0.536723</td>\n",
       "      <td>False</td>\n",
       "      <td>False</td>\n",
       "      <td>True</td>\n",
       "    </tr>\n",
       "    <tr>\n",
       "      <th>4</th>\n",
       "      <td>2504</td>\n",
       "      <td>C</td>\n",
       "      <td>15265</td>\n",
       "      <td>0</td>\n",
       "      <td>0</td>\n",
       "      <td>0</td>\n",
       "      <td>0</td>\n",
       "      <td>0</td>\n",
       "      <td>2.3</td>\n",
       "      <td>369.510563</td>\n",
       "      <td>...</td>\n",
       "      <td>133.30</td>\n",
       "      <td>124.702128</td>\n",
       "      <td>474.0</td>\n",
       "      <td>10.9</td>\n",
       "      <td>1</td>\n",
       "      <td>True</td>\n",
       "      <td>0.585242</td>\n",
       "      <td>False</td>\n",
       "      <td>False</td>\n",
       "      <td>True</td>\n",
       "    </tr>\n",
       "  </tbody>\n",
       "</table>\n",
       "<p>5 rows × 23 columns</p>\n",
       "</div>"
      ]
     },
     "execution_count": 10,
     "metadata": {},
     "output_type": "execute_result"
    }
   ],
   "execution_count": 10
  }
 ],
 "metadata": {
  "kernelspec": {
   "display_name": "Python 3",
   "language": "python",
   "name": "python3"
  },
  "language_info": {
   "codemirror_mode": {
    "name": "ipython",
    "version": 2
   },
   "file_extension": ".py",
   "mimetype": "text/x-python",
   "name": "python",
   "nbconvert_exporter": "python",
   "pygments_lexer": "ipython2",
   "version": "2.7.6"
  }
 },
 "nbformat": 4,
 "nbformat_minor": 5
}
