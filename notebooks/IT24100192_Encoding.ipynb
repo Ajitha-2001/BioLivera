{
 "cells": [
  {
   "cell_type": "code",
   "id": "initial_id",
   "metadata": {
    "collapsed": true,
    "ExecuteTime": {
     "end_time": "2025-09-23T15:35:00.539759Z",
     "start_time": "2025-09-23T15:35:00.530002Z"
    }
   },
   "source": [
    "# ===============================\n",
    "# Member 1 – Encoding Categorical Variables(2)\n",
    "# ===============================\n",
    "from pathlib import Path\n",
    "import pandas as pd\n",
    "import matplotlib.pyplot as plt\n",
    "from sklearn.preprocessing import LabelEncoder\n",
    "\n",
    "RAW   = Path(\"../results/outputs/outlier_cleaned.csv\")\n",
    "PLOTS = Path(\"../results/eda_visualizations\"); PLOTS.mkdir(parents=True, exist_ok=True)\n",
    "OUT   = Path(\"../results/outputs\");           OUT.mkdir(parents=True, exist_ok=True)\n",
    "\n",
    "assert RAW.exists() and RAW.stat().st_size > 0, f\"Dataset missing/empty at {RAW.resolve()}\""
   ],
   "outputs": [],
   "execution_count": 6
  },
  {
   "metadata": {
    "ExecuteTime": {
     "end_time": "2025-09-23T15:35:02.523258Z",
     "start_time": "2025-09-23T15:35:02.473607Z"
    }
   },
   "cell_type": "code",
   "source": [
    "# Load\n",
    "df = pd.read_csv(RAW)\n",
    "df_raw = df.copy()"
   ],
   "id": "25f1978263039abb",
   "outputs": [],
   "execution_count": 7
  },
  {
   "metadata": {
    "ExecuteTime": {
     "end_time": "2025-09-23T15:35:04.936884Z",
     "start_time": "2025-09-23T15:35:04.606558Z"
    }
   },
   "cell_type": "code",
   "source": [
    "# EDA (before encoding)\n",
    "plt.figure(); df_raw['Drug'].value_counts().plot(kind='bar')\n",
    "plt.title(\"Drug distribution (before encoding)\"); plt.xlabel(\"Drug\"); plt.ylabel(\"Count\")\n",
    "plt.tight_layout(); plt.savefig(PLOTS / \"01_drug_counts_before_encoding.png\"); plt.close()\n",
    "\n",
    "plt.figure(); df_raw['Sex'].value_counts().plot(kind='bar')\n",
    "plt.title(\"Sex distribution (before encoding)\"); plt.xlabel(\"Sex\"); plt.ylabel(\"Count\")\n",
    "plt.tight_layout(); plt.savefig(PLOTS / \"01_sex_counts_before_encoding.png\"); plt.close()\n"
   ],
   "id": "b2206ef07fe20b1e",
   "outputs": [],
   "execution_count": 8
  },
  {
   "metadata": {
    "ExecuteTime": {
     "end_time": "2025-09-23T15:35:07.401535Z",
     "start_time": "2025-09-23T15:35:07.365467Z"
    }
   },
   "cell_type": "code",
   "source": [
    "# Label-encode binary categoricals\n",
    "binary_cols = ['Sex','Ascites','Hepatomegaly','Spiders','Edema']\n",
    "label_maps = {}\n",
    "for col in binary_cols:\n",
    "    if col in df.columns:\n",
    "        le = LabelEncoder()\n",
    "        df[col] = le.fit_transform(df[col].astype(str))\n",
    "        label_maps[col] = dict(zip(le.classes_, le.transform(le.classes_)))\n",
    "print(\"Label mappings:\", label_maps)\n"
   ],
   "id": "c03e534dcebcee48",
   "outputs": [
    {
     "name": "stdout",
     "output_type": "stream",
     "text": [
      "Label mappings: {'Sex': {'F': np.int64(0), 'M': np.int64(1)}, 'Ascites': {'N': np.int64(0), 'Y': np.int64(1)}, 'Hepatomegaly': {'N': np.int64(0), 'Y': np.int64(1)}, 'Spiders': {'N': np.int64(0), 'Y': np.int64(1)}, 'Edema': {'N': np.int64(0), 'S': np.int64(1), 'Y': np.int64(2)}}\n"
     ]
    }
   ],
   "execution_count": 9
  },
  {
   "metadata": {
    "ExecuteTime": {
     "end_time": "2025-09-23T15:35:09.515718Z",
     "start_time": "2025-09-23T15:35:09.489091Z"
    }
   },
   "cell_type": "code",
   "source": [
    "# One-hot encode Drug\n",
    "if 'Drug' in df.columns:\n",
    "    df = pd.get_dummies(df, columns=['Drug'], drop_first=True)"
   ],
   "id": "a7e2a5b06d113634",
   "outputs": [],
   "execution_count": 10
  },
  {
   "metadata": {
    "ExecuteTime": {
     "end_time": "2025-09-23T15:35:11.185757Z",
     "start_time": "2025-09-23T15:35:11.046988Z"
    }
   },
   "cell_type": "code",
   "source": [
    "# Save\n",
    "encoded_path = OUT / \"encoded.csv\"\n",
    "df.to_csv(encoded_path, index=False)\n",
    "print(\"Saved:\", encoded_path.resolve())\n",
    "df.head()"
   ],
   "id": "87ce09f11f75f7f",
   "outputs": [
    {
     "name": "stdout",
     "output_type": "stream",
     "text": [
      "Saved: F:\\BioLivera\\results\\outputs\\encoded.csv\n"
     ]
    },
    {
     "data": {
      "text/plain": [
       "   N_Days Status    Age  Sex  Ascites  Hepatomegaly  Spiders  Edema  \\\n",
       "0    1230      C  19724    1        1             0        1      0   \n",
       "1    4184      C  11839    0        0             0        0      0   \n",
       "2    2090      D  16467    0        0             0        0      0   \n",
       "3    2105      D  21699    0        0             1        0      0   \n",
       "4    2504      C  15265    0        0             0        0      0   \n",
       "\n",
       "   Bilirubin  Cholesterol  Albumin  Copper  Alk_Phos    SGOT  Tryglicerides  \\\n",
       "0        0.5   219.000000     3.93    22.0     663.0   45.00      75.000000   \n",
       "1        0.5   320.000000     3.54    51.0    1243.0  122.45      80.000000   \n",
       "2        0.7   255.000000     3.74    23.0    1024.0   77.50      58.000000   \n",
       "3        1.9   486.000000     3.54    74.0    1052.0  108.50     109.000000   \n",
       "4        2.3   369.510563     3.93    24.0    1828.0  133.30     124.702128   \n",
       "\n",
       "   Platelets  Prothrombin  Stage  Drug_Placebo  \n",
       "0      220.0         10.8      2          True  \n",
       "1      225.0         10.0      2          True  \n",
       "2      151.0         10.2      2          True  \n",
       "3      151.0         11.5      1          True  \n",
       "4      474.0         10.9      1          True  "
      ],
      "text/html": [
       "<div>\n",
       "<style scoped>\n",
       "    .dataframe tbody tr th:only-of-type {\n",
       "        vertical-align: middle;\n",
       "    }\n",
       "\n",
       "    .dataframe tbody tr th {\n",
       "        vertical-align: top;\n",
       "    }\n",
       "\n",
       "    .dataframe thead th {\n",
       "        text-align: right;\n",
       "    }\n",
       "</style>\n",
       "<table border=\"1\" class=\"dataframe\">\n",
       "  <thead>\n",
       "    <tr style=\"text-align: right;\">\n",
       "      <th></th>\n",
       "      <th>N_Days</th>\n",
       "      <th>Status</th>\n",
       "      <th>Age</th>\n",
       "      <th>Sex</th>\n",
       "      <th>Ascites</th>\n",
       "      <th>Hepatomegaly</th>\n",
       "      <th>Spiders</th>\n",
       "      <th>Edema</th>\n",
       "      <th>Bilirubin</th>\n",
       "      <th>Cholesterol</th>\n",
       "      <th>Albumin</th>\n",
       "      <th>Copper</th>\n",
       "      <th>Alk_Phos</th>\n",
       "      <th>SGOT</th>\n",
       "      <th>Tryglicerides</th>\n",
       "      <th>Platelets</th>\n",
       "      <th>Prothrombin</th>\n",
       "      <th>Stage</th>\n",
       "      <th>Drug_Placebo</th>\n",
       "    </tr>\n",
       "  </thead>\n",
       "  <tbody>\n",
       "    <tr>\n",
       "      <th>0</th>\n",
       "      <td>1230</td>\n",
       "      <td>C</td>\n",
       "      <td>19724</td>\n",
       "      <td>1</td>\n",
       "      <td>1</td>\n",
       "      <td>0</td>\n",
       "      <td>1</td>\n",
       "      <td>0</td>\n",
       "      <td>0.5</td>\n",
       "      <td>219.000000</td>\n",
       "      <td>3.93</td>\n",
       "      <td>22.0</td>\n",
       "      <td>663.0</td>\n",
       "      <td>45.00</td>\n",
       "      <td>75.000000</td>\n",
       "      <td>220.0</td>\n",
       "      <td>10.8</td>\n",
       "      <td>2</td>\n",
       "      <td>True</td>\n",
       "    </tr>\n",
       "    <tr>\n",
       "      <th>1</th>\n",
       "      <td>4184</td>\n",
       "      <td>C</td>\n",
       "      <td>11839</td>\n",
       "      <td>0</td>\n",
       "      <td>0</td>\n",
       "      <td>0</td>\n",
       "      <td>0</td>\n",
       "      <td>0</td>\n",
       "      <td>0.5</td>\n",
       "      <td>320.000000</td>\n",
       "      <td>3.54</td>\n",
       "      <td>51.0</td>\n",
       "      <td>1243.0</td>\n",
       "      <td>122.45</td>\n",
       "      <td>80.000000</td>\n",
       "      <td>225.0</td>\n",
       "      <td>10.0</td>\n",
       "      <td>2</td>\n",
       "      <td>True</td>\n",
       "    </tr>\n",
       "    <tr>\n",
       "      <th>2</th>\n",
       "      <td>2090</td>\n",
       "      <td>D</td>\n",
       "      <td>16467</td>\n",
       "      <td>0</td>\n",
       "      <td>0</td>\n",
       "      <td>0</td>\n",
       "      <td>0</td>\n",
       "      <td>0</td>\n",
       "      <td>0.7</td>\n",
       "      <td>255.000000</td>\n",
       "      <td>3.74</td>\n",
       "      <td>23.0</td>\n",
       "      <td>1024.0</td>\n",
       "      <td>77.50</td>\n",
       "      <td>58.000000</td>\n",
       "      <td>151.0</td>\n",
       "      <td>10.2</td>\n",
       "      <td>2</td>\n",
       "      <td>True</td>\n",
       "    </tr>\n",
       "    <tr>\n",
       "      <th>3</th>\n",
       "      <td>2105</td>\n",
       "      <td>D</td>\n",
       "      <td>21699</td>\n",
       "      <td>0</td>\n",
       "      <td>0</td>\n",
       "      <td>1</td>\n",
       "      <td>0</td>\n",
       "      <td>0</td>\n",
       "      <td>1.9</td>\n",
       "      <td>486.000000</td>\n",
       "      <td>3.54</td>\n",
       "      <td>74.0</td>\n",
       "      <td>1052.0</td>\n",
       "      <td>108.50</td>\n",
       "      <td>109.000000</td>\n",
       "      <td>151.0</td>\n",
       "      <td>11.5</td>\n",
       "      <td>1</td>\n",
       "      <td>True</td>\n",
       "    </tr>\n",
       "    <tr>\n",
       "      <th>4</th>\n",
       "      <td>2504</td>\n",
       "      <td>C</td>\n",
       "      <td>15265</td>\n",
       "      <td>0</td>\n",
       "      <td>0</td>\n",
       "      <td>0</td>\n",
       "      <td>0</td>\n",
       "      <td>0</td>\n",
       "      <td>2.3</td>\n",
       "      <td>369.510563</td>\n",
       "      <td>3.93</td>\n",
       "      <td>24.0</td>\n",
       "      <td>1828.0</td>\n",
       "      <td>133.30</td>\n",
       "      <td>124.702128</td>\n",
       "      <td>474.0</td>\n",
       "      <td>10.9</td>\n",
       "      <td>1</td>\n",
       "      <td>True</td>\n",
       "    </tr>\n",
       "  </tbody>\n",
       "</table>\n",
       "</div>"
      ]
     },
     "execution_count": 11,
     "metadata": {},
     "output_type": "execute_result"
    }
   ],
   "execution_count": 11
  }
 ],
 "metadata": {
  "kernelspec": {
   "display_name": "Python 3",
   "language": "python",
   "name": "python3"
  },
  "language_info": {
   "codemirror_mode": {
    "name": "ipython",
    "version": 2
   },
   "file_extension": ".py",
   "mimetype": "text/x-python",
   "name": "python",
   "nbconvert_exporter": "python",
   "pygments_lexer": "ipython2",
   "version": "2.7.6"
  }
 },
 "nbformat": 4,
 "nbformat_minor": 5
}
